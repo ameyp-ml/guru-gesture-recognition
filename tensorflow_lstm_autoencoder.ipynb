{
 "cells": [
  {
   "cell_type": "code",
   "execution_count": 1,
   "metadata": {
    "collapsed": false
   },
   "outputs": [],
   "source": [
    "%matplotlib inline\n",
    "\n",
    "import tensorflow as tf\n",
    "from train_rnn_last import get_batches, get_pretrain_batches\n",
    "from preprocess import write_video\n",
    "import matplotlib.pyplot as plt\n",
    "import numpy as np\n",
    "import math"
   ]
  },
  {
   "cell_type": "code",
   "execution_count": 2,
   "metadata": {
    "collapsed": true
   },
   "outputs": [],
   "source": [
    "def put_kernels_on_grid (kernel, grid_Y, grid_X, pad = 1):\n",
    "\n",
    "    '''Visualize conv. features as an image (mostly for the 1st layer).\n",
    "    Place kernel into a grid, with some paddings between adjacent filters.\n",
    "\n",
    "    Args:\n",
    "      kernel:            tensor of shape [Y, X, NumChannels, NumKernels]\n",
    "      (grid_Y, grid_X):  shape of the grid. Require: NumKernels == grid_Y * grid_X\n",
    "                           User is responsible of how to break into two multiples.\n",
    "      pad:               number of black pixels around each filter (between them)\n",
    "\n",
    "    Return:\n",
    "      Tensor of shape [(Y+2*pad)*grid_Y, (X+2*pad)*grid_X, NumChannels, 1].\n",
    "    '''\n",
    "\n",
    "    x_min = tf.reduce_min(kernel)\n",
    "    x_max = tf.reduce_max(kernel)\n",
    "\n",
    "    kernel1 = (kernel - x_min) / (x_max - x_min)\n",
    "\n",
    "    # pad X and Y\n",
    "    x1 = tf.pad(kernel1, tf.constant( [[pad,pad],[pad, pad],[0,0],[0,0]] ), mode = 'CONSTANT')\n",
    "\n",
    "    # X and Y dimensions, w.r.t. padding\n",
    "    Y = kernel1.get_shape()[0] + 2 * pad\n",
    "    X = kernel1.get_shape()[1] + 2 * pad\n",
    "\n",
    "    channels = kernel1.get_shape()[2]\n",
    "\n",
    "    # put NumKernels to the 1st dimension\n",
    "    x2 = tf.transpose(x1, (3, 0, 1, 2))\n",
    "    # organize grid on Y axis\n",
    "    x3 = tf.reshape(x2, tf.pack([grid_X, Y * grid_Y, X, channels])) #3\n",
    "\n",
    "    # switch X and Y axes\n",
    "    x4 = tf.transpose(x3, (0, 2, 1, 3))\n",
    "    # organize grid on X axis\n",
    "    x5 = tf.reshape(x4, tf.pack([1, X * grid_X, Y * grid_Y, channels])) #3\n",
    "\n",
    "    # back to normal order (not combining with the next step for clarity)\n",
    "    x6 = tf.transpose(x5, (2, 1, 3, 0))\n",
    "\n",
    "    # to tf.image_summary order [batch_size, height, width, channels],\n",
    "    #   where in this case batch_size == 1\n",
    "    x7 = tf.transpose(x6, (3, 0, 1, 2))\n",
    "\n",
    "    # scale to [0, 255] and convert to uint8\n",
    "    return tf.image.convert_image_dtype(x7, dtype = tf.uint8) \n",
    "\n",
    "def visualize(tensor):\n",
    "    weights = tensor.eval()\n",
    "    assert(weights.shape[0] == weights.shape[1])\n",
    "    width = weights.shape[0]\n",
    "    channels = weights.shape[2]\n",
    "    filters = weights.shape[3]\n",
    "    \n",
    "    tiling = math.ceil(math.sqrt(channels * filters))\n",
    "    output_width = tiling * width\n",
    "    output = np.zeros((output_width, output_width))\n",
    "    row, col = 0, 0\n",
    "    for i in range(channels):\n",
    "        for j in range(filters):\n",
    "            output[width*row:width*(row+1),width*col:width*(col+1)] = weights[:,:,i,j]\n",
    "            col += 1\n",
    "            if col == tiling:\n",
    "                col = 0\n",
    "                row += 1\n",
    "            \n",
    "    return output\n",
    "\n",
    "def get_summaries(tensor, name):\n",
    "    channels = tf.split(2, tensor.get_shape()[2], tensor)\n",
    "    tensors = []\n",
    "    for t in channels:\n",
    "        tensors += tf.split(3, int(t.get_shape()[3]) / 16, t)\n",
    "    \n",
    "    return [tf.image_summary(\"{}/{}\".format(name, i), put_kernels_on_grid(w, 4, 4), max_images=1) for (i,w) in enumerate(tensors)]\n",
    "\n",
    "def extract_last_relevant(outputs):\n",
    "    \"\"\"\n",
    "    Args:\n",
    "        outputs: [Tensor(batch_size, output_neurons)]: A list containing the output\n",
    "            activations of each in the batch for each time step as returned by\n",
    "            tensorflow.models.rnn.rnn.\n",
    "        length: Tensor(batch_size): The used sequence length of each example in the\n",
    "            batch with all later time steps being zeros. Should be of type tf.int32.\n",
    "\n",
    "    Returns:\n",
    "        Tensor(batch_size, output_neurons): The last relevant output activation for\n",
    "            each example in the batch.\n",
    "    \"\"\"\n",
    "    # Query shape.\n",
    "    batch_size = int(outputs.get_shape()[0])\n",
    "    max_length = int(outputs.get_shape()[1])\n",
    "    num_neurons = int(outputs.get_shape()[2])\n",
    "    # Index into flattened array as a workaround.\n",
    "    index = tf.range(0, batch_size) * max_length + (max_length - 1)\n",
    "    flat = tf.reshape(outputs, [-1, num_neurons])\n",
    "    relevant = tf.gather(flat, index)\n",
    "    return relevant\n",
    "\n",
    "def bias(num_units, init):\n",
    "    return tf.Variable(tf.constant(init, shape=[num_units]))\n",
    "\n",
    "def weights(shape, stddev):\n",
    "    return tf.Variable(tf.truncated_normal(shape, stddev=stddev))\n",
    "\n",
    "def conv2d(inp, b, w):\n",
    "    return tf.nn.relu(tf.nn.conv2d(inp, w, strides=[1,1,1,1], padding='SAME') + b)\n",
    "\n",
    "def pool2d(inp):\n",
    "    return tf.nn.max_pool(inp, ksize=[1, 2, 2, 1], strides=[1, 2, 2, 1], padding='SAME')\n",
    "\n",
    "def pool3d(inp):\n",
    "    return tf.nn.max_pool3d(inp, ksize=[1, 2, 2, 2, 1], strides=[1, 2, 2, 2, 1], padding='SAME')\n",
    "\n",
    "def layer(inp, num_units, filter_shape):\n",
    "    num_channels = int(inp.get_shape()[4])\n",
    "    b = bias(num_units, 0.2)\n",
    "    w = weights(filter_shape + [num_channels, num_units], 0.04)\n",
    "    conv = [conv2d(i, b, w) for i in tf.unpack(inp, axis=1)]\n",
    "    out = pool3d(tf.pack(conv, axis=1))\n",
    "    return b,w,conv,out\n",
    "\n",
    "def layer2d(inp, num_units, filter_shape):\n",
    "    num_channels = int(inp.get_shape()[4])\n",
    "    b = bias(num_units, 0.2)\n",
    "    w = weights(filter_shape + [num_channels, num_units], 0.04)\n",
    "    conv = [conv2d(i, b, w) for i in tf.unpack(inp, axis=1)]\n",
    "    o_pool = tf.pack([pool2d(c) for c in conv], axis=1)\n",
    "    return b,w,conv,o_pool\n",
    "\n",
    "def dense(inp, num_in, num_out, b_init, w_init):\n",
    "    b = bias(num_out, b_init)\n",
    "    w = weights([num_in, num_out], w_init)\n",
    "    h = tf.nn.relu(tf.matmul(inp, w) + b)\n",
    "    \n",
    "    return b, w, h\n",
    "\n",
    "def dense_multi(inp, num_in, num_out, b_init, w_init):\n",
    "    b = bias(num_out, b_init)\n",
    "    w = weights([num_in, num_out], w_init)\n",
    "    unpacked = tf.unpack(inp, axis=1)\n",
    "    h = [tf.nn.relu(tf.matmul(i, w) + b) for i in unpacked]\n",
    "    return b, w, tf.pack(h, axis=1)\n",
    "\n",
    "def flatten(inp):\n",
    "    shape = inp.get_shape()[1:].num_elements()\n",
    "    reshaped = tf.reshape(inp, [-1, shape])\n",
    "    return reshaped\n",
    "\n",
    "def flatten_multi(inp):\n",
    "    seq_len = int(inp.get_shape()[1])\n",
    "    shape = inp.get_shape()[2:].num_elements()\n",
    "    reshaped = tf.reshape(inp, [-1, seq_len, shape])\n",
    "    return reshaped\n",
    "\n",
    "def lstm(inp, num_units, num_layers, batch_size, name):\n",
    "    cell = tf.nn.rnn_cell.BasicRNNCell(num_units)\n",
    "    #cell = tf.nn.rnn_cell.MultiRNNCell([lstm_cell] * num_layers)\n",
    "    initial = cell.zero_state(batch_size, tf.float32)\n",
    "    \n",
    "    out, _ = tf.nn.dynamic_rnn(\n",
    "        cell,\n",
    "        inp,\n",
    "        initial_state=initial,\n",
    "        time_major=False,\n",
    "        scope=name)\n",
    "    \n",
    "    return out"
   ]
  },
  {
   "cell_type": "code",
   "execution_count": 3,
   "metadata": {
    "collapsed": false
   },
   "outputs": [
    {
     "ename": "ValueError",
     "evalue": "Cannot infer num from shape (?, ?, 64, 64, 2)",
     "output_type": "error",
     "traceback": [
      "\u001b[0;31m---------------------------------------------------------------------------\u001b[0m",
      "\u001b[0;31mValueError\u001b[0m                                Traceback (most recent call last)",
      "\u001b[0;32m<ipython-input-3-dd8838a54f4a>\u001b[0m in \u001b[0;36m<module>\u001b[0;34m()\u001b[0m\n\u001b[1;32m      8\u001b[0m \u001b[0;34m\u001b[0m\u001b[0m\n\u001b[1;32m      9\u001b[0m \u001b[0;31m# Convolutional layers, hand\u001b[0m\u001b[0;34m\u001b[0m\u001b[0;34m\u001b[0m\u001b[0m\n\u001b[0;32m---> 10\u001b[0;31m \u001b[0mb_conv1_h\u001b[0m\u001b[0;34m,\u001b[0m \u001b[0mw_conv1_h\u001b[0m\u001b[0;34m,\u001b[0m \u001b[0mh_conv1_h\u001b[0m\u001b[0;34m,\u001b[0m \u001b[0mi_conv2_h\u001b[0m \u001b[0;34m=\u001b[0m \u001b[0mlayer2d\u001b[0m\u001b[0;34m(\u001b[0m\u001b[0mx_h\u001b[0m\u001b[0;34m,\u001b[0m \u001b[0;36m16\u001b[0m\u001b[0;34m,\u001b[0m \u001b[0;34m[\u001b[0m\u001b[0;36m5\u001b[0m\u001b[0;34m,\u001b[0m \u001b[0;36m5\u001b[0m\u001b[0;34m]\u001b[0m\u001b[0;34m)\u001b[0m\u001b[0;34m\u001b[0m\u001b[0m\n\u001b[0m\u001b[1;32m     11\u001b[0m \u001b[0mb_conv2_h\u001b[0m\u001b[0;34m,\u001b[0m \u001b[0mw_conv2_h\u001b[0m\u001b[0;34m,\u001b[0m \u001b[0mh_conv2_h\u001b[0m\u001b[0;34m,\u001b[0m \u001b[0mi_conv3_h\u001b[0m \u001b[0;34m=\u001b[0m \u001b[0mlayer2d\u001b[0m\u001b[0;34m(\u001b[0m\u001b[0mi_conv2_h\u001b[0m\u001b[0;34m,\u001b[0m \u001b[0;36m32\u001b[0m\u001b[0;34m,\u001b[0m \u001b[0;34m[\u001b[0m\u001b[0;36m5\u001b[0m\u001b[0;34m,\u001b[0m \u001b[0;36m5\u001b[0m\u001b[0;34m]\u001b[0m\u001b[0;34m)\u001b[0m\u001b[0;34m\u001b[0m\u001b[0m\n\u001b[1;32m     12\u001b[0m \u001b[0mb_conv3_h\u001b[0m\u001b[0;34m,\u001b[0m \u001b[0mw_conv3_h\u001b[0m\u001b[0;34m,\u001b[0m \u001b[0mh_conv3_h\u001b[0m\u001b[0;34m,\u001b[0m \u001b[0mo_h\u001b[0m \u001b[0;34m=\u001b[0m \u001b[0mlayer2d\u001b[0m\u001b[0;34m(\u001b[0m\u001b[0mi_conv3_h\u001b[0m\u001b[0;34m,\u001b[0m \u001b[0;36m64\u001b[0m\u001b[0;34m,\u001b[0m \u001b[0;34m[\u001b[0m\u001b[0;36m4\u001b[0m\u001b[0;34m,\u001b[0m \u001b[0;36m4\u001b[0m\u001b[0;34m]\u001b[0m\u001b[0;34m)\u001b[0m\u001b[0;34m\u001b[0m\u001b[0m\n",
      "\u001b[0;32m<ipython-input-2-2881f0ae6696>\u001b[0m in \u001b[0;36mlayer2d\u001b[0;34m(inp, num_units, filter_shape)\u001b[0m\n\u001b[1;32m    127\u001b[0m     \u001b[0mb\u001b[0m \u001b[0;34m=\u001b[0m \u001b[0mbias\u001b[0m\u001b[0;34m(\u001b[0m\u001b[0mnum_units\u001b[0m\u001b[0;34m,\u001b[0m \u001b[0;36m0.2\u001b[0m\u001b[0;34m)\u001b[0m\u001b[0;34m\u001b[0m\u001b[0m\n\u001b[1;32m    128\u001b[0m     \u001b[0mw\u001b[0m \u001b[0;34m=\u001b[0m \u001b[0mweights\u001b[0m\u001b[0;34m(\u001b[0m\u001b[0mfilter_shape\u001b[0m \u001b[0;34m+\u001b[0m \u001b[0;34m[\u001b[0m\u001b[0mnum_channels\u001b[0m\u001b[0;34m,\u001b[0m \u001b[0mnum_units\u001b[0m\u001b[0;34m]\u001b[0m\u001b[0;34m,\u001b[0m \u001b[0;36m0.04\u001b[0m\u001b[0;34m)\u001b[0m\u001b[0;34m\u001b[0m\u001b[0m\n\u001b[0;32m--> 129\u001b[0;31m     \u001b[0mconv\u001b[0m \u001b[0;34m=\u001b[0m \u001b[0;34m[\u001b[0m\u001b[0mconv2d\u001b[0m\u001b[0;34m(\u001b[0m\u001b[0mi\u001b[0m\u001b[0;34m,\u001b[0m \u001b[0mb\u001b[0m\u001b[0;34m,\u001b[0m \u001b[0mw\u001b[0m\u001b[0;34m)\u001b[0m \u001b[0;32mfor\u001b[0m \u001b[0mi\u001b[0m \u001b[0;32min\u001b[0m \u001b[0mtf\u001b[0m\u001b[0;34m.\u001b[0m\u001b[0munpack\u001b[0m\u001b[0;34m(\u001b[0m\u001b[0minp\u001b[0m\u001b[0;34m,\u001b[0m \u001b[0maxis\u001b[0m\u001b[0;34m=\u001b[0m\u001b[0;36m1\u001b[0m\u001b[0;34m)\u001b[0m\u001b[0;34m]\u001b[0m\u001b[0;34m\u001b[0m\u001b[0m\n\u001b[0m\u001b[1;32m    130\u001b[0m     \u001b[0mo_pool\u001b[0m \u001b[0;34m=\u001b[0m \u001b[0mtf\u001b[0m\u001b[0;34m.\u001b[0m\u001b[0mpack\u001b[0m\u001b[0;34m(\u001b[0m\u001b[0;34m[\u001b[0m\u001b[0mpool2d\u001b[0m\u001b[0;34m(\u001b[0m\u001b[0mc\u001b[0m\u001b[0;34m)\u001b[0m \u001b[0;32mfor\u001b[0m \u001b[0mc\u001b[0m \u001b[0;32min\u001b[0m \u001b[0mconv\u001b[0m\u001b[0;34m]\u001b[0m\u001b[0;34m,\u001b[0m \u001b[0maxis\u001b[0m\u001b[0;34m=\u001b[0m\u001b[0;36m1\u001b[0m\u001b[0;34m)\u001b[0m\u001b[0;34m\u001b[0m\u001b[0m\n\u001b[1;32m    131\u001b[0m     \u001b[0;32mreturn\u001b[0m \u001b[0mb\u001b[0m\u001b[0;34m,\u001b[0m\u001b[0mw\u001b[0m\u001b[0;34m,\u001b[0m\u001b[0mconv\u001b[0m\u001b[0;34m,\u001b[0m\u001b[0mo_pool\u001b[0m\u001b[0;34m\u001b[0m\u001b[0m\n",
      "\u001b[0;32m/home/amey/.pyenv/versions/3.5.2/envs/tensorflow/lib/python3.5/site-packages/tensorflow/python/ops/array_ops.py\u001b[0m in \u001b[0;36munpack\u001b[0;34m(value, num, axis, name)\u001b[0m\n\u001b[1;32m    796\u001b[0m       \u001b[0mnum\u001b[0m \u001b[0;34m=\u001b[0m \u001b[0mvalue_shape\u001b[0m\u001b[0;34m[\u001b[0m\u001b[0maxis\u001b[0m\u001b[0;34m]\u001b[0m\u001b[0;34m.\u001b[0m\u001b[0mvalue\u001b[0m\u001b[0;34m\u001b[0m\u001b[0m\n\u001b[1;32m    797\u001b[0m   \u001b[0;32mif\u001b[0m \u001b[0mnum\u001b[0m \u001b[0;32mis\u001b[0m \u001b[0;32mNone\u001b[0m\u001b[0;34m:\u001b[0m\u001b[0;34m\u001b[0m\u001b[0m\n\u001b[0;32m--> 798\u001b[0;31m     \u001b[0;32mraise\u001b[0m \u001b[0mValueError\u001b[0m\u001b[0;34m(\u001b[0m\u001b[0;34m\"Cannot infer num from shape %s\"\u001b[0m \u001b[0;34m%\u001b[0m \u001b[0mvalue_shape\u001b[0m\u001b[0;34m)\u001b[0m\u001b[0;34m\u001b[0m\u001b[0m\n\u001b[0m\u001b[1;32m    799\u001b[0m   \u001b[0;32mreturn\u001b[0m \u001b[0mgen_array_ops\u001b[0m\u001b[0;34m.\u001b[0m\u001b[0m_unpack\u001b[0m\u001b[0;34m(\u001b[0m\u001b[0mvalue\u001b[0m\u001b[0;34m,\u001b[0m \u001b[0mnum\u001b[0m\u001b[0;34m=\u001b[0m\u001b[0mnum\u001b[0m\u001b[0;34m,\u001b[0m \u001b[0maxis\u001b[0m\u001b[0;34m=\u001b[0m\u001b[0maxis\u001b[0m\u001b[0;34m,\u001b[0m \u001b[0mname\u001b[0m\u001b[0;34m=\u001b[0m\u001b[0mname\u001b[0m\u001b[0;34m)\u001b[0m\u001b[0;34m\u001b[0m\u001b[0m\n\u001b[1;32m    800\u001b[0m \u001b[0;34m\u001b[0m\u001b[0m\n",
      "\u001b[0;31mValueError\u001b[0m: Cannot infer num from shape (?, ?, 64, 64, 2)"
     ]
    }
   ],
   "source": [
    "seq_len = 32\n",
    "batch_size = 20\n",
    "\n",
    "x_h = tf.placeholder(tf.float32, shape=[None, seq_len, 64, 64, 2])\n",
    "x_m = tf.placeholder(tf.float32, shape=[None, seq_len, 64, 64, 2])\n",
    "y_next = tf.placeholder(tf.float32, shape=[None, 32, 32])\n",
    "#y = tf.placeholder(tf.float32, shape=[None, 20])\n",
    "\n",
    "# Convolutional layers, hand\n",
    "b_conv1_h, w_conv1_h, h_conv1_h, i_conv2_h = layer2d(x_h, 16, [5, 5])\n",
    "b_conv2_h, w_conv2_h, h_conv2_h, i_conv3_h = layer2d(i_conv2_h, 32, [5, 5])\n",
    "b_conv3_h, w_conv3_h, h_conv3_h, o_h = layer2d(i_conv3_h, 64, [4, 4])\n",
    "\n",
    "# Convolutional layers, main\n",
    "b_conv1_m, w_conv1_m, h_conv1_m, i_conv2_m = layer2d(x_m, 16, [5, 5])\n",
    "b_conv2_m, w_conv2_m, h_conv2_m, i_conv3_m = layer2d(i_conv2_m, 32, [5, 5])\n",
    "b_conv3_m, w_conv3_m, h_conv3_m, o_m = layer2d(i_conv3_m, 64, [4, 4])\n",
    "\n",
    "# Merge hand and main\n",
    "flat = flatten_multi(tf.pack([o_h, o_m], axis=2))\n",
    "\n",
    "o_lstm = lstm(flat, 1024, 2, batch_size, \"lstm\")\n",
    "last_index = int(o_lstm.get_shape()[1]) - 1\n",
    "o_lstm_last = tf.squeeze(tf.slice(o_lstm, [0, last_index, 0], [batch_size, 1, 1024]), [1])"
   ]
  },
  {
   "cell_type": "code",
   "execution_count": 4,
   "metadata": {
    "collapsed": false
   },
   "outputs": [],
   "source": []
  },
  {
   "cell_type": "code",
   "execution_count": 73,
   "metadata": {
    "collapsed": false
   },
   "outputs": [],
   "source": [
    "b = next(batches)\n",
    "p = o_lstm_last.eval(feed_dict={x_h: b[0], x_m: b[1], y_next: b[2]})\n",
    "plt.imshow(np.reshape(p[0], (2, 64, 64, 2))[1,:,:,0], 'gray')"
   ]
  },
  {
   "cell_type": "code",
   "execution_count": 8,
   "metadata": {
    "collapsed": false
   },
   "outputs": [],
   "source": [
    "#diff_next = tf.nn.l2_normalize(tf.reshape(y_next, [-1, 64 * 64 * 4]), 1) - tf.nn.l2_normalize(o_decoder, 1)\n",
    "diff_next = o_lstm_last - tf.reshape(y_next, [-1, 1024])\n",
    "loss_next = tf.nn.l2_loss(diff_next)\n",
    "pretrain_step = tf.train.AdamOptimizer(1e-4).minimize(loss_next)"
   ]
  },
  {
   "cell_type": "code",
   "execution_count": 9,
   "metadata": {
    "collapsed": false
   },
   "outputs": [],
   "source": [
    "CHALAP = \"/media/amey/76D076A5D0766B6F/chalap\"\n",
    "MODEL = \"2d-pool-pretrain\"\n",
    "\n",
    "# Create variables\n",
    "step = 0\n",
    "losses = []\n",
    "sess = tf.InteractiveSession()\n",
    "saver = tf.train.Saver()\n",
    "\n",
    "# Initialize/restore\n",
    "sess.run(tf.initialize_all_variables())\n",
    "#saver.restore(sess, \"{}/checkpoints/{}-9\".format(CHALAP, MODEL))"
   ]
  },
  {
   "cell_type": "code",
   "execution_count": 10,
   "metadata": {
    "collapsed": false
   },
   "outputs": [
    {
     "name": "stdout",
     "output_type": "stream",
     "text": [
      "step 0, training loss 3.28074e+08\n",
      "step 1000, training loss 1.87337e+08\n",
      "step 2000, training loss 3.86481e+08\n",
      "step 3000, training loss 1.96804e+08\n",
      "step 4000, training loss 4.04301e+08\n",
      "step 5000, training loss 3.6977e+08\n",
      "step 6000, training loss 2.74012e+08\n",
      "step 7000, training loss 2.70581e+08\n",
      "step 8000, training loss 4.24004e+08\n",
      "step 9000, training loss 3.86119e+08\n",
      "step 10000, training loss 2.71274e+08\n",
      "step 11000, training loss 1.97496e+08\n",
      "step 12000, training loss 3.74431e+08\n",
      "Done with epoch: 0\n",
      "step 0, training loss 3.24759e+08\n",
      "step 1000, training loss 1.87337e+08\n",
      "step 2000, training loss 3.86481e+08\n",
      "step 3000, training loss 1.96804e+08\n",
      "step 4000, training loss 4.04301e+08\n",
      "step 5000, training loss 3.6977e+08\n",
      "step 6000, training loss 2.74012e+08\n",
      "step 7000, training loss 2.70581e+08\n",
      "step 8000, training loss 4.24004e+08\n",
      "step 9000, training loss 3.86119e+08\n",
      "step 10000, training loss 2.71274e+08\n",
      "step 11000, training loss 1.97496e+08\n",
      "step 12000, training loss 3.74431e+08\n",
      "Done with epoch: 1\n",
      "step 0, training loss 3.24759e+08\n"
     ]
    },
    {
     "ename": "KeyboardInterrupt",
     "evalue": "",
     "output_type": "error",
     "traceback": [
      "\u001b[0;31m---------------------------------------------------------------------------\u001b[0m",
      "\u001b[0;31mKeyboardInterrupt\u001b[0m                         Traceback (most recent call last)",
      "\u001b[0;32m<ipython-input-10-a09ff69a8226>\u001b[0m in \u001b[0;36m<module>\u001b[0;34m()\u001b[0m\n\u001b[1;32m      3\u001b[0m     \u001b[0;32mfor\u001b[0m \u001b[0mi\u001b[0m\u001b[0;34m,\u001b[0m\u001b[0mbatch\u001b[0m \u001b[0;32min\u001b[0m \u001b[0menumerate\u001b[0m\u001b[0;34m(\u001b[0m\u001b[0mbatches\u001b[0m\u001b[0;34m)\u001b[0m\u001b[0;34m:\u001b[0m\u001b[0;34m\u001b[0m\u001b[0m\n\u001b[1;32m      4\u001b[0m         \u001b[0mstep\u001b[0m \u001b[0;34m+=\u001b[0m \u001b[0;36m1\u001b[0m\u001b[0;34m\u001b[0m\u001b[0m\n\u001b[0;32m----> 5\u001b[0;31m         \u001b[0ml\u001b[0m\u001b[0;34m,\u001b[0m \u001b[0m_\u001b[0m \u001b[0;34m=\u001b[0m \u001b[0msess\u001b[0m\u001b[0;34m.\u001b[0m\u001b[0mrun\u001b[0m\u001b[0;34m(\u001b[0m\u001b[0;34m[\u001b[0m\u001b[0mloss_next\u001b[0m\u001b[0;34m,\u001b[0m \u001b[0mpretrain_step\u001b[0m\u001b[0;34m]\u001b[0m\u001b[0;34m,\u001b[0m \u001b[0mfeed_dict\u001b[0m\u001b[0;34m=\u001b[0m\u001b[0;34m{\u001b[0m\u001b[0mx_h\u001b[0m\u001b[0;34m:\u001b[0m\u001b[0mbatch\u001b[0m\u001b[0;34m[\u001b[0m\u001b[0;36m0\u001b[0m\u001b[0;34m]\u001b[0m\u001b[0;34m,\u001b[0m \u001b[0mx_m\u001b[0m\u001b[0;34m:\u001b[0m\u001b[0mbatch\u001b[0m\u001b[0;34m[\u001b[0m\u001b[0;36m1\u001b[0m\u001b[0;34m]\u001b[0m\u001b[0;34m,\u001b[0m \u001b[0my_next\u001b[0m\u001b[0;34m:\u001b[0m \u001b[0mbatch\u001b[0m\u001b[0;34m[\u001b[0m\u001b[0;36m2\u001b[0m\u001b[0;34m]\u001b[0m\u001b[0;34m}\u001b[0m\u001b[0;34m)\u001b[0m\u001b[0;34m\u001b[0m\u001b[0m\n\u001b[0m\u001b[1;32m      6\u001b[0m         \u001b[0mlosses\u001b[0m\u001b[0;34m.\u001b[0m\u001b[0mappend\u001b[0m\u001b[0;34m(\u001b[0m\u001b[0ml\u001b[0m\u001b[0;34m)\u001b[0m\u001b[0;34m\u001b[0m\u001b[0m\n\u001b[1;32m      7\u001b[0m         \u001b[0;32mif\u001b[0m \u001b[0mi\u001b[0m\u001b[0;34m%\u001b[0m\u001b[0;36m1000\u001b[0m \u001b[0;34m==\u001b[0m \u001b[0;36m0\u001b[0m\u001b[0;34m:\u001b[0m\u001b[0;34m\u001b[0m\u001b[0m\n",
      "\u001b[0;32m/home/amey/.pyenv/versions/3.5.2/envs/tensorflow/lib/python3.5/site-packages/tensorflow/python/client/session.py\u001b[0m in \u001b[0;36mrun\u001b[0;34m(self, fetches, feed_dict, options, run_metadata)\u001b[0m\n\u001b[1;32m    715\u001b[0m     \u001b[0;32mtry\u001b[0m\u001b[0;34m:\u001b[0m\u001b[0;34m\u001b[0m\u001b[0m\n\u001b[1;32m    716\u001b[0m       result = self._run(None, fetches, feed_dict, options_ptr,\n\u001b[0;32m--> 717\u001b[0;31m                          run_metadata_ptr)\n\u001b[0m\u001b[1;32m    718\u001b[0m       \u001b[0;32mif\u001b[0m \u001b[0mrun_metadata\u001b[0m\u001b[0;34m:\u001b[0m\u001b[0;34m\u001b[0m\u001b[0m\n\u001b[1;32m    719\u001b[0m         \u001b[0mproto_data\u001b[0m \u001b[0;34m=\u001b[0m \u001b[0mtf_session\u001b[0m\u001b[0;34m.\u001b[0m\u001b[0mTF_GetBuffer\u001b[0m\u001b[0;34m(\u001b[0m\u001b[0mrun_metadata_ptr\u001b[0m\u001b[0;34m)\u001b[0m\u001b[0;34m\u001b[0m\u001b[0m\n",
      "\u001b[0;32m/home/amey/.pyenv/versions/3.5.2/envs/tensorflow/lib/python3.5/site-packages/tensorflow/python/client/session.py\u001b[0m in \u001b[0;36m_run\u001b[0;34m(self, handle, fetches, feed_dict, options, run_metadata)\u001b[0m\n\u001b[1;32m    913\u001b[0m     \u001b[0;32mif\u001b[0m \u001b[0mfinal_fetches\u001b[0m \u001b[0;32mor\u001b[0m \u001b[0mfinal_targets\u001b[0m\u001b[0;34m:\u001b[0m\u001b[0;34m\u001b[0m\u001b[0m\n\u001b[1;32m    914\u001b[0m       results = self._do_run(handle, final_targets, final_fetches,\n\u001b[0;32m--> 915\u001b[0;31m                              feed_dict_string, options, run_metadata)\n\u001b[0m\u001b[1;32m    916\u001b[0m     \u001b[0;32melse\u001b[0m\u001b[0;34m:\u001b[0m\u001b[0;34m\u001b[0m\u001b[0m\n\u001b[1;32m    917\u001b[0m       \u001b[0mresults\u001b[0m \u001b[0;34m=\u001b[0m \u001b[0;34m[\u001b[0m\u001b[0;34m]\u001b[0m\u001b[0;34m\u001b[0m\u001b[0m\n",
      "\u001b[0;32m/home/amey/.pyenv/versions/3.5.2/envs/tensorflow/lib/python3.5/site-packages/tensorflow/python/client/session.py\u001b[0m in \u001b[0;36m_do_run\u001b[0;34m(self, handle, target_list, fetch_list, feed_dict, options, run_metadata)\u001b[0m\n\u001b[1;32m    963\u001b[0m     \u001b[0;32mif\u001b[0m \u001b[0mhandle\u001b[0m \u001b[0;32mis\u001b[0m \u001b[0;32mNone\u001b[0m\u001b[0;34m:\u001b[0m\u001b[0;34m\u001b[0m\u001b[0m\n\u001b[1;32m    964\u001b[0m       return self._do_call(_run_fn, self._session, feed_dict, fetch_list,\n\u001b[0;32m--> 965\u001b[0;31m                            target_list, options, run_metadata)\n\u001b[0m\u001b[1;32m    966\u001b[0m     \u001b[0;32melse\u001b[0m\u001b[0;34m:\u001b[0m\u001b[0;34m\u001b[0m\u001b[0m\n\u001b[1;32m    967\u001b[0m       return self._do_call(_prun_fn, self._session, handle, feed_dict,\n",
      "\u001b[0;32m/home/amey/.pyenv/versions/3.5.2/envs/tensorflow/lib/python3.5/site-packages/tensorflow/python/client/session.py\u001b[0m in \u001b[0;36m_do_call\u001b[0;34m(self, fn, *args)\u001b[0m\n\u001b[1;32m    970\u001b[0m   \u001b[0;32mdef\u001b[0m \u001b[0m_do_call\u001b[0m\u001b[0;34m(\u001b[0m\u001b[0mself\u001b[0m\u001b[0;34m,\u001b[0m \u001b[0mfn\u001b[0m\u001b[0;34m,\u001b[0m \u001b[0;34m*\u001b[0m\u001b[0margs\u001b[0m\u001b[0;34m)\u001b[0m\u001b[0;34m:\u001b[0m\u001b[0;34m\u001b[0m\u001b[0m\n\u001b[1;32m    971\u001b[0m     \u001b[0;32mtry\u001b[0m\u001b[0;34m:\u001b[0m\u001b[0;34m\u001b[0m\u001b[0m\n\u001b[0;32m--> 972\u001b[0;31m       \u001b[0;32mreturn\u001b[0m \u001b[0mfn\u001b[0m\u001b[0;34m(\u001b[0m\u001b[0;34m*\u001b[0m\u001b[0margs\u001b[0m\u001b[0;34m)\u001b[0m\u001b[0;34m\u001b[0m\u001b[0m\n\u001b[0m\u001b[1;32m    973\u001b[0m     \u001b[0;32mexcept\u001b[0m \u001b[0merrors\u001b[0m\u001b[0;34m.\u001b[0m\u001b[0mOpError\u001b[0m \u001b[0;32mas\u001b[0m \u001b[0me\u001b[0m\u001b[0;34m:\u001b[0m\u001b[0;34m\u001b[0m\u001b[0m\n\u001b[1;32m    974\u001b[0m       \u001b[0mmessage\u001b[0m \u001b[0;34m=\u001b[0m \u001b[0mcompat\u001b[0m\u001b[0;34m.\u001b[0m\u001b[0mas_text\u001b[0m\u001b[0;34m(\u001b[0m\u001b[0me\u001b[0m\u001b[0;34m.\u001b[0m\u001b[0mmessage\u001b[0m\u001b[0;34m)\u001b[0m\u001b[0;34m\u001b[0m\u001b[0m\n",
      "\u001b[0;32m/home/amey/.pyenv/versions/3.5.2/envs/tensorflow/lib/python3.5/site-packages/tensorflow/python/client/session.py\u001b[0m in \u001b[0;36m_run_fn\u001b[0;34m(session, feed_dict, fetch_list, target_list, options, run_metadata)\u001b[0m\n\u001b[1;32m    952\u001b[0m         return tf_session.TF_Run(session, options,\n\u001b[1;32m    953\u001b[0m                                  \u001b[0mfeed_dict\u001b[0m\u001b[0;34m,\u001b[0m \u001b[0mfetch_list\u001b[0m\u001b[0;34m,\u001b[0m \u001b[0mtarget_list\u001b[0m\u001b[0;34m,\u001b[0m\u001b[0;34m\u001b[0m\u001b[0m\n\u001b[0;32m--> 954\u001b[0;31m                                  status, run_metadata)\n\u001b[0m\u001b[1;32m    955\u001b[0m \u001b[0;34m\u001b[0m\u001b[0m\n\u001b[1;32m    956\u001b[0m     \u001b[0;32mdef\u001b[0m \u001b[0m_prun_fn\u001b[0m\u001b[0;34m(\u001b[0m\u001b[0msession\u001b[0m\u001b[0;34m,\u001b[0m \u001b[0mhandle\u001b[0m\u001b[0;34m,\u001b[0m \u001b[0mfeed_dict\u001b[0m\u001b[0;34m,\u001b[0m \u001b[0mfetch_list\u001b[0m\u001b[0;34m)\u001b[0m\u001b[0;34m:\u001b[0m\u001b[0;34m\u001b[0m\u001b[0m\n",
      "\u001b[0;31mKeyboardInterrupt\u001b[0m: "
     ]
    }
   ],
   "source": [
    "for epoch in range(20):\n",
    "    batches = get_pretrain_batches(batch_size, seq_len + 1)\n",
    "    for i,batch in enumerate(batches):\n",
    "        step += 1\n",
    "        l, _ = sess.run([loss_next, pretrain_step], feed_dict={x_h:batch[0], x_m:batch[1], y_next: batch[2]})\n",
    "        losses.append(l)\n",
    "        if i%1000 == 0:\n",
    "            print(\"step %d, training loss %g\"%(i, l))\n",
    "            #summary_writer.add_summary(loss_summary_op.eval(feed_dict={loss_summary: l}), step)\n",
    "\n",
    "    saver.save(sess, \"{}/checkpoints/{}\".format(CHALAP, MODEL), global_step=epoch)\n",
    "    print(\"Done with epoch: %d\" % (epoch))"
   ]
  },
  {
   "cell_type": "code",
   "execution_count": null,
   "metadata": {
    "collapsed": true
   },
   "outputs": [],
   "source": []
  },
  {
   "cell_type": "code",
   "execution_count": 8,
   "metadata": {
    "collapsed": false
   },
   "outputs": [],
   "source": [
    "#b_fc1, w_fc1, h_fc1 = dense_multi(flat, int(flat.get_shape()[2]), 2048, 0.1, 0.02)\n",
    "b_fc1, w_fc1, h_fc1 = dense(flat, int(flat.get_shape()[1]), 512, 0.1, 0.02)\n",
    "\n",
    "#o_lstm = lstm(h_fc1, 512, 2, batch_size, \"lstm_h\")\n",
    "#last_index = int(o_lstm.get_shape()[1]) - 1\n",
    "#o_lstm_last = tf.squeeze(tf.slice(o_lstm, [0, last_index, 0], [batch_size, 1, 512]), [1])\n",
    "\n",
    "b_output = bias(20, 0.1)\n",
    "w_output = weights([512, 20], 0.02)\n",
    "#output = tf.matmul(o_lstm_last, w_output) + b_output\n",
    "output = tf.matmul(h_fc1, w_output) + b_output\n",
    "\n",
    "# Computations\n",
    "cross_entropy = tf.reduce_mean(tf.nn.softmax_cross_entropy_with_logits(output, y))\n",
    "train_step = tf.train.AdamOptimizer(1e-4).minimize(cross_entropy)\n",
    "correct_prediction = tf.equal(tf.argmax(output,1), tf.argmax(y,1))\n",
    "accuracy = tf.reduce_mean(tf.cast(correct_prediction, tf.float32))"
   ]
  },
  {
   "cell_type": "code",
   "execution_count": 10,
   "metadata": {
    "collapsed": false
   },
   "outputs": [],
   "source": [
    "CHALAP = \"/media/amey/76D076A5D0766B6F/chalap\"\n",
    "MODEL = \"2d-pool-pretrain\"\n",
    "\n",
    "# Create variables\n",
    "step = 0\n",
    "acc = []\n",
    "sess = tf.InteractiveSession()\n",
    "summary_writer = tf.train.SummaryWriter(\"{}/summaries\".format(CHALAP), sess.graph)\n",
    "saver = tf.train.Saver()\n",
    "accuracy_summary = tf.placeholder(tf.float32, [])\n",
    "\n",
    "# Initialize/restore\n",
    "sess.run(tf.initialize_all_variables())\n",
    "#saver.restore(sess, \"{}/checkpoints/{}-9\".format(CHALAP, MODEL))\n",
    "\n",
    "# Create summary tensors\n",
    "image_summaries = get_summaries(w_conv1_h, \"conv1\") + \\\n",
    "                  get_summaries(w_conv2_h, \"conv2\") + \\\n",
    "                  get_summaries(w_conv3_h, \"conv3\")\n",
    "accuracy_summary_op = tf.scalar_summary(\"train_accuracy\", accuracy_summary)"
   ]
  },
  {
   "cell_type": "code",
   "execution_count": null,
   "metadata": {
    "collapsed": false
   },
   "outputs": [],
   "source": [
    "for epoch in range(20):\n",
    "    batches = get_batches(batch_size, seq_len)\n",
    "    for i,batch in enumerate(batches):\n",
    "        step += 1\n",
    "        train_accuracy, _ = sess.run([accuracy, train_step], feed_dict={x_h:batch[0], x_m:batch[1], y: batch[2]})\n",
    "        acc.append(train_accuracy)\n",
    "        if i%100 == 0:\n",
    "            cumulative = sum(acc) / len(acc)\n",
    "            print(\"step %d, training accuracy %g\"%(i, cumulative))\n",
    "            for summary in image_summaries:\n",
    "                summary_writer.add_summary(summary.eval(), step)\n",
    "            summary_writer.add_summary(accuracy_summary_op.eval(feed_dict={accuracy_summary: cumulative}), step)\n",
    "\n",
    "    saver.save(sess, \"{}/checkpoints/{}\".format(CHALAP, MODEL), global_step=epoch)\n",
    "    print(\"Done with epoch: %d\" % (epoch))"
   ]
  },
  {
   "cell_type": "code",
   "execution_count": 33,
   "metadata": {
    "collapsed": true
   },
   "outputs": [],
   "source": [
    "batches = get_batches(batch_size, seq_len)"
   ]
  },
  {
   "cell_type": "code",
   "execution_count": 16,
   "metadata": {
    "collapsed": false,
    "scrolled": false
   },
   "outputs": [
    {
     "data": {
      "text/plain": [
       "array([15,  7, 18, 18])"
      ]
     },
     "execution_count": 16,
     "metadata": {},
     "output_type": "execute_result"
    }
   ],
   "source": [
    "b = next(batches)\n",
    "np.argmax(output.eval(feed_dict={x_h: b[0], x_m: b[1], y: b[2]}), axis=1)"
   ]
  },
  {
   "cell_type": "code",
   "execution_count": 12,
   "metadata": {
    "collapsed": false
   },
   "outputs": [
    {
     "data": {
      "text/plain": [
       "array([ 0,  0,  0,  0,  0,  0, 17, 17, 17, 17, 17, 17, 17, 17, 17, 17, 17,\n",
       "       12, 15, 15])"
      ]
     },
     "execution_count": 12,
     "metadata": {},
     "output_type": "execute_result"
    }
   ],
   "source": [
    "np.argmax(b[2], axis=1)"
   ]
  },
  {
   "cell_type": "code",
   "execution_count": 9,
   "metadata": {
    "collapsed": false
   },
   "outputs": [
    {
     "data": {
      "text/plain": [
       "[<matplotlib.lines.Line2D at 0x7f5e49ecc7b8>]"
      ]
     },
     "execution_count": 9,
     "metadata": {},
     "output_type": "execute_result"
    },
    {
     "data": {
      "image/png": "[encoded data removed]",
      "text/plain": [
       "<matplotlib.figure.Figure at 0x7f5eaa6a6c50>"
      ]
     },
     "metadata": {},
     "output_type": "display_data"
    }
   ],
   "source": [
    "plt.plot(x_axis, temp)"
   ]
  }
 ],
 "metadata": {
  "kernelspec": {
   "display_name": "Python 3",
   "language": "python",
   "name": "python3"
  },
  "language_info": {
   "codemirror_mode": {
    "name": "ipython",
    "version": 3
   },
   "file_extension": ".py",
   "mimetype": "text/x-python",
   "name": "python",
   "nbconvert_exporter": "python",
   "pygments_lexer": "ipython3",
   "version": "3.5.2"
  }
 },
 "nbformat": 4,
 "nbformat_minor": 1
}
