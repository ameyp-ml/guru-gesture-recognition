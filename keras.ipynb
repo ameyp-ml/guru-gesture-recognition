{
 "cells": [
  {
   "cell_type": "code",
   "execution_count": 9,
   "metadata": {
    "collapsed": false
   },
   "outputs": [],
   "source": [
    "from keras.layers import merge, Input, Dense, Convolution2D, MaxPooling3D, Flatten, Lambda\n",
    "from keras.models import Model\n",
    "from keras import backend as K"
   ]
  },
  {
   "cell_type": "code",
   "execution_count": 68,
   "metadata": {
    "collapsed": false
   },
   "outputs": [],
   "source": [
    "hand_conv_1 = Convolution2D(16, 5, 5, activation='relu', dim_ordering='th', border_mode='same')\n",
    "hand_pool_1 = MaxPooling3D(pool_size=(2,2,2), dim_ordering='th')\n",
    "hand_conv_2 = Convolution2D(32, 5, 5, activation='relu', dim_ordering='th', border_mode='same')\n",
    "hand_pool_2 = MaxPooling3D(pool_size=(2,2,2), dim_ordering='th')\n",
    "hand_conv_3 = Convolution2D(48, 4, 4, activation='relu', dim_ordering='th', border_mode='same')\n",
    "hand_pool_3 = MaxPooling3D(pool_size=(2,2,2), dim_ordering='th')\n",
    "\n",
    "main_conv_1 = Convolution2D(16, 5, 5, activation='relu', dim_ordering='th', border_mode='same')\n",
    "main_pool_1 = MaxPooling3D(pool_size=(2,2,2), dim_ordering='th')\n",
    "main_conv_2 = Convolution2D(32, 5, 5, activation='relu', dim_ordering='th', border_mode='same')\n",
    "main_pool_2 = MaxPooling3D(pool_size=(2,2,2), dim_ordering='th')\n",
    "main_conv_3 = Convolution2D(48, 4, 4, activation='relu', dim_ordering='th', border_mode='same')\n",
    "main_pool_3 = MaxPooling3D(pool_size=(2,2,2), dim_ordering='th')\n",
    "\n",
    "pack_and_expand = Lambda(lambda x: K.expand_dims(K.pack(x, axis=1), 1))\n",
    "unpack = Lambda(lambda x: K.unpack(x, axis=1), unpack_shape)\n",
    "def unpack_shape(input_shape):\n",
    "    return [(64, 64)] * input_shape[1]\n",
    "squeeze = Lambda(lambda x: K.squeeze(x, 1))"
   ]
  },
  {
   "cell_type": "code",
   "execution_count": 65,
   "metadata": {
    "collapsed": false
   },
   "outputs": [
    {
     "data": {
      "text/plain": [
       "[<tf.Tensor 'unpack_659:0' shape=(?, 64, 64) dtype=float32>,\n",
       " <tf.Tensor 'unpack_659:1' shape=(?, 64, 64) dtype=float32>]"
      ]
     },
     "execution_count": 65,
     "metadata": {},
     "output_type": "execute_result"
    }
   ],
   "source": [
    "K.unpack(inputs_hand[0], axis=1)"
   ]
  },
  {
   "cell_type": "code",
   "execution_count": 69,
   "metadata": {
    "collapsed": false
   },
   "outputs": [
    {
     "ename": "Exception",
     "evalue": "The `get_output_shape_for` method of layer \"lambda_63\"\" should return one shape tuple per output tensor of the layer. Found: [((64, 64), (64, 64))]",
     "output_type": "error",
     "traceback": [
      "\u001b[0;31m---------------------------------------------------------------------------\u001b[0m",
      "\u001b[0;31mException\u001b[0m                                 Traceback (most recent call last)",
      "\u001b[0;32m<ipython-input-69-2f65623c168c>\u001b[0m in \u001b[0;36m<module>\u001b[0;34m()\u001b[0m\n\u001b[0;32m----> 1\u001b[0;31m \u001b[0munpack\u001b[0m\u001b[0;34m(\u001b[0m\u001b[0minputs_hand\u001b[0m\u001b[0;34m[\u001b[0m\u001b[0;36m0\u001b[0m\u001b[0;34m]\u001b[0m\u001b[0;34m)\u001b[0m\u001b[0;34m\u001b[0m\u001b[0m\n\u001b[0m",
      "\u001b[0;32m/home/amey/.pyenv/versions/3.5.2/envs/tensorflow/lib/python3.5/site-packages/Keras-1.1.0-py3.5.egg/keras/engine/topology.py\u001b[0m in \u001b[0;36m__call__\u001b[0;34m(self, x, mask)\u001b[0m\n\u001b[1;32m    512\u001b[0m         \u001b[0;32mif\u001b[0m \u001b[0minbound_layers\u001b[0m\u001b[0;34m:\u001b[0m\u001b[0;34m\u001b[0m\u001b[0m\n\u001b[1;32m    513\u001b[0m             \u001b[0;31m# this will call layer.build() if necessary\u001b[0m\u001b[0;34m\u001b[0m\u001b[0;34m\u001b[0m\u001b[0m\n\u001b[0;32m--> 514\u001b[0;31m             \u001b[0mself\u001b[0m\u001b[0;34m.\u001b[0m\u001b[0madd_inbound_node\u001b[0m\u001b[0;34m(\u001b[0m\u001b[0minbound_layers\u001b[0m\u001b[0;34m,\u001b[0m \u001b[0mnode_indices\u001b[0m\u001b[0;34m,\u001b[0m \u001b[0mtensor_indices\u001b[0m\u001b[0;34m)\u001b[0m\u001b[0;34m\u001b[0m\u001b[0m\n\u001b[0m\u001b[1;32m    515\u001b[0m             \u001b[0minput_added\u001b[0m \u001b[0;34m=\u001b[0m \u001b[0;32mTrue\u001b[0m\u001b[0;34m\u001b[0m\u001b[0m\n\u001b[1;32m    516\u001b[0m \u001b[0;34m\u001b[0m\u001b[0m\n",
      "\u001b[0;32m/home/amey/.pyenv/versions/3.5.2/envs/tensorflow/lib/python3.5/site-packages/Keras-1.1.0-py3.5.egg/keras/engine/topology.py\u001b[0m in \u001b[0;36madd_inbound_node\u001b[0;34m(self, inbound_layers, node_indices, tensor_indices)\u001b[0m\n\u001b[1;32m    570\u001b[0m         \u001b[0;31m# creating the node automatically updates self.inbound_nodes\u001b[0m\u001b[0;34m\u001b[0m\u001b[0;34m\u001b[0m\u001b[0m\n\u001b[1;32m    571\u001b[0m         \u001b[0;31m# as well as outbound_nodes on inbound layers.\u001b[0m\u001b[0;34m\u001b[0m\u001b[0;34m\u001b[0m\u001b[0m\n\u001b[0;32m--> 572\u001b[0;31m         \u001b[0mNode\u001b[0m\u001b[0;34m.\u001b[0m\u001b[0mcreate_node\u001b[0m\u001b[0;34m(\u001b[0m\u001b[0mself\u001b[0m\u001b[0;34m,\u001b[0m \u001b[0minbound_layers\u001b[0m\u001b[0;34m,\u001b[0m \u001b[0mnode_indices\u001b[0m\u001b[0;34m,\u001b[0m \u001b[0mtensor_indices\u001b[0m\u001b[0;34m)\u001b[0m\u001b[0;34m\u001b[0m\u001b[0m\n\u001b[0m\u001b[1;32m    573\u001b[0m \u001b[0;34m\u001b[0m\u001b[0m\n\u001b[1;32m    574\u001b[0m     \u001b[0;32mdef\u001b[0m \u001b[0mget_output_shape_for\u001b[0m\u001b[0;34m(\u001b[0m\u001b[0mself\u001b[0m\u001b[0;34m,\u001b[0m \u001b[0minput_shape\u001b[0m\u001b[0;34m)\u001b[0m\u001b[0;34m:\u001b[0m\u001b[0;34m\u001b[0m\u001b[0m\n",
      "\u001b[0;32m/home/amey/.pyenv/versions/3.5.2/envs/tensorflow/lib/python3.5/site-packages/Keras-1.1.0-py3.5.egg/keras/engine/topology.py\u001b[0m in \u001b[0;36mcreate_node\u001b[0;34m(cls, outbound_layer, inbound_layers, node_indices, tensor_indices)\u001b[0m\n\u001b[1;32m    166\u001b[0m                             \u001b[0;34m'\"\" should return one shape tuple per '\u001b[0m\u001b[0;34m\u001b[0m\u001b[0m\n\u001b[1;32m    167\u001b[0m                             \u001b[0;34m'output tensor of the layer. Found: '\u001b[0m \u001b[0;34m+\u001b[0m\u001b[0;34m\u001b[0m\u001b[0m\n\u001b[0;32m--> 168\u001b[0;31m                             str(output_shapes))\n\u001b[0m\u001b[1;32m    169\u001b[0m         \u001b[0;32mif\u001b[0m \u001b[0mlen\u001b[0m\u001b[0;34m(\u001b[0m\u001b[0moutput_tensors\u001b[0m\u001b[0;34m)\u001b[0m \u001b[0;34m!=\u001b[0m \u001b[0mlen\u001b[0m\u001b[0;34m(\u001b[0m\u001b[0moutput_masks\u001b[0m\u001b[0;34m)\u001b[0m\u001b[0;34m:\u001b[0m\u001b[0;34m\u001b[0m\u001b[0m\n\u001b[1;32m    170\u001b[0m             raise Exception('The `compute_mask` method of layer \"' +\n",
      "\u001b[0;31mException\u001b[0m: The `get_output_shape_for` method of layer \"lambda_63\"\" should return one shape tuple per output tensor of the layer. Found: [((64, 64), (64, 64))]"
     ]
    }
   ],
   "source": [
    "unpack(inputs_hand[0])"
   ]
  },
  {
   "cell_type": "code",
   "execution_count": 11,
   "metadata": {
    "collapsed": false
   },
   "outputs": [],
   "source": [
    "inputs_hand = [Input(shape=(2, 64, 64)) for i in range(32)]\n",
    "inputs_main = [Input(shape=(2, 64, 64)) for i in range(32)]\n",
    "\n",
    "hand_conv_1_out = [K.unpack(hand_conv_1(i), axis=1) for i in inputs_hand]\n",
    "hand_pool_1_in = [K.expand_dims(K.pack(c, axis=1), 1) for c in zip(*hand_conv_1_out)]\n",
    "hand_conv_2_in = [K.squeeze(hand_pool_1(c), 1) for c in hand_pool_1_in]\n",
    "hand_conv_2_out = [K.unpack(hand_conv_2(i), axis=1) for i in hand_conv_2_in]\n",
    "hand_pool_2_in = [K.expand_dims(K.pack(c, axis=1), 1) for c in zip(*hand_conv_2_out)]\n",
    "hand_conv_3_in = [K.squeeze(hand_pool_2(c), 1) for c in hand_pool_2_in]\n",
    "hand_conv_3_out = [K.unpack(hand_conv_3(i), axis=1) for i in hand_conv_3_in]\n",
    "hand_pool_3_in = [K.expand_dims(K.pack(c, axis=1), 1) for c in zip(*hand_conv_3_out)]\n",
    "hand_pool_3_out = [K.squeeze(hand_pool_3(c), 1) for c in hand_pool_3_in]\n",
    "\n",
    "main_conv_1_out = [K.unpack(main_conv_1(i), axis=1) for i in inputs_main]\n",
    "main_pool_1_in = [K.expand_dims(K.pack(c, axis=1), 1) for c in zip(*main_conv_1_out)]\n",
    "main_conv_2_in = [K.squeeze(main_pool_1(c), 1) for c in main_pool_1_in]\n",
    "main_conv_2_out = [K.unpack(main_conv_2(i), axis=1) for i in main_conv_2_in]\n",
    "main_pool_2_in = [K.expand_dims(K.pack(c, axis=1), 1) for c in zip(*main_conv_2_out)]\n",
    "main_conv_3_in = [K.squeeze(main_pool_2(c), 1) for c in main_pool_2_in]\n",
    "main_conv_3_out = [K.unpack(main_conv_3(i), axis=1) for i in main_conv_3_in]\n",
    "main_pool_3_in = [K.expand_dims(K.pack(c, axis=1), 1) for c in zip(*main_conv_3_out)]\n",
    "main_pool_3_out = [K.squeeze(main_pool_3(c), 1) for c in main_pool_3_in]"
   ]
  },
  {
   "cell_type": "code",
   "execution_count": 14,
   "metadata": {
    "collapsed": false
   },
   "outputs": [],
   "source": [
    "merged = K.pack(hand_pool_3_out + main_pool_3_out, axis=1)\n",
    "shape = merged.get_shape()\n",
    "flattened = Lambda(lambda x: K.reshape(x, [-1, 98304]))(merged)\n",
    "penultimate = Dense(512, activation='relu')(flattened)\n",
    "ultimate = Dense(20, activation='softmax')(penultimate)"
   ]
  },
  {
   "cell_type": "code",
   "execution_count": 37,
   "metadata": {
    "collapsed": false
   },
   "outputs": [
    {
     "data": {
      "text/plain": [
       "<tf.Tensor 'Relu_646:0' shape=(?, 16, 64, 64) dtype=float32>"
      ]
     },
     "execution_count": 37,
     "metadata": {},
     "output_type": "execute_result"
    }
   ],
   "source": [
    "hand_conv_1(inputs_hand[0])"
   ]
  },
  {
   "cell_type": "code",
   "execution_count": 34,
   "metadata": {
    "collapsed": false
   },
   "outputs": [
    {
     "data": {
      "text/plain": [
       "[<tf.Tensor 'unpack_644:0' shape=(?, 64, 64) dtype=float32>,\n",
       " <tf.Tensor 'unpack_644:1' shape=(?, 64, 64) dtype=float32>,\n",
       " <tf.Tensor 'unpack_644:2' shape=(?, 64, 64) dtype=float32>,\n",
       " <tf.Tensor 'unpack_644:3' shape=(?, 64, 64) dtype=float32>,\n",
       " <tf.Tensor 'unpack_644:4' shape=(?, 64, 64) dtype=float32>,\n",
       " <tf.Tensor 'unpack_644:5' shape=(?, 64, 64) dtype=float32>,\n",
       " <tf.Tensor 'unpack_644:6' shape=(?, 64, 64) dtype=float32>,\n",
       " <tf.Tensor 'unpack_644:7' shape=(?, 64, 64) dtype=float32>,\n",
       " <tf.Tensor 'unpack_644:8' shape=(?, 64, 64) dtype=float32>,\n",
       " <tf.Tensor 'unpack_644:9' shape=(?, 64, 64) dtype=float32>,\n",
       " <tf.Tensor 'unpack_644:10' shape=(?, 64, 64) dtype=float32>,\n",
       " <tf.Tensor 'unpack_644:11' shape=(?, 64, 64) dtype=float32>,\n",
       " <tf.Tensor 'unpack_644:12' shape=(?, 64, 64) dtype=float32>,\n",
       " <tf.Tensor 'unpack_644:13' shape=(?, 64, 64) dtype=float32>,\n",
       " <tf.Tensor 'unpack_644:14' shape=(?, 64, 64) dtype=float32>,\n",
       " <tf.Tensor 'unpack_644:15' shape=(?, 64, 64) dtype=float32>]"
      ]
     },
     "execution_count": 34,
     "metadata": {},
     "output_type": "execute_result"
    }
   ],
   "source": [
    "tf.unpack(hand_conv_1(inputs_hand[0]), axis=1)"
   ]
  },
  {
   "cell_type": "code",
   "execution_count": 40,
   "metadata": {
    "collapsed": false
   },
   "outputs": [
    {
     "ename": "Exception",
     "evalue": "The `get_output_shape_for` method of layer \"lambda_15\"\" should return one shape tuple per output tensor of the layer. Found: [(2,)]",
     "output_type": "error",
     "traceback": [
      "\u001b[0;31m---------------------------------------------------------------------------\u001b[0m",
      "\u001b[0;31mException\u001b[0m                                 Traceback (most recent call last)",
      "\u001b[0;32m<ipython-input-40-2f65623c168c>\u001b[0m in \u001b[0;36m<module>\u001b[0;34m()\u001b[0m\n\u001b[0;32m----> 1\u001b[0;31m \u001b[0munpack\u001b[0m\u001b[0;34m(\u001b[0m\u001b[0minputs_hand\u001b[0m\u001b[0;34m[\u001b[0m\u001b[0;36m0\u001b[0m\u001b[0;34m]\u001b[0m\u001b[0;34m)\u001b[0m\u001b[0;34m\u001b[0m\u001b[0m\n\u001b[0m",
      "\u001b[0;32m/home/amey/.pyenv/versions/3.5.2/envs/tensorflow/lib/python3.5/site-packages/Keras-1.1.0-py3.5.egg/keras/engine/topology.py\u001b[0m in \u001b[0;36m__call__\u001b[0;34m(self, x, mask)\u001b[0m\n\u001b[1;32m    512\u001b[0m         \u001b[0;32mif\u001b[0m \u001b[0minbound_layers\u001b[0m\u001b[0;34m:\u001b[0m\u001b[0;34m\u001b[0m\u001b[0m\n\u001b[1;32m    513\u001b[0m             \u001b[0;31m# this will call layer.build() if necessary\u001b[0m\u001b[0;34m\u001b[0m\u001b[0;34m\u001b[0m\u001b[0m\n\u001b[0;32m--> 514\u001b[0;31m             \u001b[0mself\u001b[0m\u001b[0;34m.\u001b[0m\u001b[0madd_inbound_node\u001b[0m\u001b[0;34m(\u001b[0m\u001b[0minbound_layers\u001b[0m\u001b[0;34m,\u001b[0m \u001b[0mnode_indices\u001b[0m\u001b[0;34m,\u001b[0m \u001b[0mtensor_indices\u001b[0m\u001b[0;34m)\u001b[0m\u001b[0;34m\u001b[0m\u001b[0m\n\u001b[0m\u001b[1;32m    515\u001b[0m             \u001b[0minput_added\u001b[0m \u001b[0;34m=\u001b[0m \u001b[0;32mTrue\u001b[0m\u001b[0;34m\u001b[0m\u001b[0m\n\u001b[1;32m    516\u001b[0m \u001b[0;34m\u001b[0m\u001b[0m\n",
      "\u001b[0;32m/home/amey/.pyenv/versions/3.5.2/envs/tensorflow/lib/python3.5/site-packages/Keras-1.1.0-py3.5.egg/keras/engine/topology.py\u001b[0m in \u001b[0;36madd_inbound_node\u001b[0;34m(self, inbound_layers, node_indices, tensor_indices)\u001b[0m\n\u001b[1;32m    570\u001b[0m         \u001b[0;31m# creating the node automatically updates self.inbound_nodes\u001b[0m\u001b[0;34m\u001b[0m\u001b[0;34m\u001b[0m\u001b[0m\n\u001b[1;32m    571\u001b[0m         \u001b[0;31m# as well as outbound_nodes on inbound layers.\u001b[0m\u001b[0;34m\u001b[0m\u001b[0;34m\u001b[0m\u001b[0m\n\u001b[0;32m--> 572\u001b[0;31m         \u001b[0mNode\u001b[0m\u001b[0;34m.\u001b[0m\u001b[0mcreate_node\u001b[0m\u001b[0;34m(\u001b[0m\u001b[0mself\u001b[0m\u001b[0;34m,\u001b[0m \u001b[0minbound_layers\u001b[0m\u001b[0;34m,\u001b[0m \u001b[0mnode_indices\u001b[0m\u001b[0;34m,\u001b[0m \u001b[0mtensor_indices\u001b[0m\u001b[0;34m)\u001b[0m\u001b[0;34m\u001b[0m\u001b[0m\n\u001b[0m\u001b[1;32m    573\u001b[0m \u001b[0;34m\u001b[0m\u001b[0m\n\u001b[1;32m    574\u001b[0m     \u001b[0;32mdef\u001b[0m \u001b[0mget_output_shape_for\u001b[0m\u001b[0;34m(\u001b[0m\u001b[0mself\u001b[0m\u001b[0;34m,\u001b[0m \u001b[0minput_shape\u001b[0m\u001b[0;34m)\u001b[0m\u001b[0;34m:\u001b[0m\u001b[0;34m\u001b[0m\u001b[0m\n",
      "\u001b[0;32m/home/amey/.pyenv/versions/3.5.2/envs/tensorflow/lib/python3.5/site-packages/Keras-1.1.0-py3.5.egg/keras/engine/topology.py\u001b[0m in \u001b[0;36mcreate_node\u001b[0;34m(cls, outbound_layer, inbound_layers, node_indices, tensor_indices)\u001b[0m\n\u001b[1;32m    166\u001b[0m                             \u001b[0;34m'\"\" should return one shape tuple per '\u001b[0m\u001b[0;34m\u001b[0m\u001b[0m\n\u001b[1;32m    167\u001b[0m                             \u001b[0;34m'output tensor of the layer. Found: '\u001b[0m \u001b[0;34m+\u001b[0m\u001b[0;34m\u001b[0m\u001b[0m\n\u001b[0;32m--> 168\u001b[0;31m                             str(output_shapes))\n\u001b[0m\u001b[1;32m    169\u001b[0m         \u001b[0;32mif\u001b[0m \u001b[0mlen\u001b[0m\u001b[0;34m(\u001b[0m\u001b[0moutput_tensors\u001b[0m\u001b[0;34m)\u001b[0m \u001b[0;34m!=\u001b[0m \u001b[0mlen\u001b[0m\u001b[0;34m(\u001b[0m\u001b[0moutput_masks\u001b[0m\u001b[0;34m)\u001b[0m\u001b[0;34m:\u001b[0m\u001b[0;34m\u001b[0m\u001b[0m\n\u001b[1;32m    170\u001b[0m             raise Exception('The `compute_mask` method of layer \"' +\n",
      "\u001b[0;31mException\u001b[0m: The `get_output_shape_for` method of layer \"lambda_15\"\" should return one shape tuple per output tensor of the layer. Found: [(2,)]"
     ]
    }
   ],
   "source": []
  },
  {
   "cell_type": "code",
   "execution_count": 8,
   "metadata": {
    "collapsed": false
   },
   "outputs": [
    {
     "ename": "Exception",
     "evalue": "Output tensors to a Model must be Keras tensors. Found: Tensor(\"Softmax_1:0\", shape=(?, 20), dtype=float32)",
     "output_type": "error",
     "traceback": [
      "\u001b[0;31m---------------------------------------------------------------------------\u001b[0m",
      "\u001b[0;31mException\u001b[0m                                 Traceback (most recent call last)",
      "\u001b[0;32m<ipython-input-8-a536fc5b97cd>\u001b[0m in \u001b[0;36m<module>\u001b[0;34m()\u001b[0m\n\u001b[1;32m      1\u001b[0m \u001b[0moutput\u001b[0m \u001b[0;34m=\u001b[0m \u001b[0mLambda\u001b[0m\u001b[0;34m(\u001b[0m\u001b[0;32mlambda\u001b[0m \u001b[0mx\u001b[0m\u001b[0;34m:\u001b[0m \u001b[0mx\u001b[0m\u001b[0;34m)\u001b[0m\u001b[0;34m(\u001b[0m\u001b[0multimate\u001b[0m\u001b[0;34m)\u001b[0m\u001b[0;34m\u001b[0m\u001b[0m\n\u001b[0;32m----> 2\u001b[0;31m \u001b[0mmodel\u001b[0m \u001b[0;34m=\u001b[0m \u001b[0mModel\u001b[0m\u001b[0;34m(\u001b[0m\u001b[0minput\u001b[0m\u001b[0;34m=\u001b[0m\u001b[0minputs_hand\u001b[0m \u001b[0;34m+\u001b[0m \u001b[0minputs_main\u001b[0m\u001b[0;34m,\u001b[0m \u001b[0moutput\u001b[0m\u001b[0;34m=\u001b[0m\u001b[0moutput\u001b[0m\u001b[0;34m)\u001b[0m\u001b[0;34m\u001b[0m\u001b[0m\n\u001b[0m",
      "\u001b[0;32m/home/amey/.pyenv/versions/3.5.2/envs/tensorflow/lib/python3.5/site-packages/Keras-1.1.0-py3.5.egg/keras/engine/topology.py\u001b[0m in \u001b[0;36m__init__\u001b[0;34m(self, input, output, name)\u001b[0m\n\u001b[1;32m   1659\u001b[0m                 \u001b[0mcls_name\u001b[0m \u001b[0;34m=\u001b[0m \u001b[0mself\u001b[0m\u001b[0;34m.\u001b[0m\u001b[0m__class__\u001b[0m\u001b[0;34m.\u001b[0m\u001b[0m__name__\u001b[0m\u001b[0;34m\u001b[0m\u001b[0m\n\u001b[1;32m   1660\u001b[0m                 raise Exception('Output tensors to a ' + cls_name + ' must be '\n\u001b[0;32m-> 1661\u001b[0;31m                                 'Keras tensors. Found: ' + str(x))\n\u001b[0m\u001b[1;32m   1662\u001b[0m         \u001b[0;31m# build self.output_layers:\u001b[0m\u001b[0;34m\u001b[0m\u001b[0;34m\u001b[0m\u001b[0m\n\u001b[1;32m   1663\u001b[0m         \u001b[0;32mfor\u001b[0m \u001b[0mx\u001b[0m \u001b[0;32min\u001b[0m \u001b[0mself\u001b[0m\u001b[0;34m.\u001b[0m\u001b[0moutputs\u001b[0m\u001b[0;34m:\u001b[0m\u001b[0;34m\u001b[0m\u001b[0m\n",
      "\u001b[0;31mException\u001b[0m: Output tensors to a Model must be Keras tensors. Found: Tensor(\"Softmax_1:0\", shape=(?, 20), dtype=float32)"
     ]
    }
   ],
   "source": [
    "\n",
    "model = Model(input=inputs_hand + inputs_main, output=output)"
   ]
  },
  {
   "cell_type": "code",
   "execution_count": 90,
   "metadata": {
    "collapsed": false
   },
   "outputs": [],
   "source": []
  },
  {
   "cell_type": "code",
   "execution_count": 91,
   "metadata": {
    "collapsed": false
   },
   "outputs": [],
   "source": []
  },
  {
   "cell_type": "code",
   "execution_count": 100,
   "metadata": {
    "collapsed": false
   },
   "outputs": [
    {
     "data": {
      "text/plain": [
       "<tf.Tensor 'Reshape_615:0' shape=(?, ?) dtype=float32>"
      ]
     },
     "execution_count": 100,
     "metadata": {},
     "output_type": "execute_result"
    }
   ],
   "source": [
    "Flatten()(merge(hand_pool_3_out, mode='concat'))"
   ]
  },
  {
   "cell_type": "code",
   "execution_count": null,
   "metadata": {
    "collapsed": true
   },
   "outputs": [],
   "source": []
  }
 ],
 "metadata": {
  "kernelspec": {
   "display_name": "Python 3",
   "language": "python",
   "name": "python3"
  },
  "language_info": {
   "codemirror_mode": {
    "name": "ipython",
    "version": 3
   },
   "file_extension": ".py",
   "mimetype": "text/x-python",
   "name": "python",
   "nbconvert_exporter": "python",
   "pygments_lexer": "ipython3",
   "version": "3.5.2"
  }
 },
 "nbformat": 4,
 "nbformat_minor": 1
}
